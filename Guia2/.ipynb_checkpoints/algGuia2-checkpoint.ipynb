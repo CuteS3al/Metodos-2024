{
 "cells": [
  {
   "cell_type": "code",
   "execution_count": 14,
   "id": "4cfb9271-916e-4597-ad51-7ed7b2dc5055",
   "metadata": {},
   "outputs": [
    {
     "data": {
      "text/plain": [
       "biseccion"
      ]
     },
     "execution_count": 14,
     "metadata": {},
     "output_type": "execute_result"
    }
   ],
   "source": [
    "\"\"\"\n",
    "Calcula mediante el metodo de la bisección la raíz aproximada a la función f, partiendo del intervalo [a b] teniendo en cuenta:\n",
    "f(a)<0\n",
    "f(b)>0\n",
    "\n",
    "Con error de la aproximacion ϵx y ϵf\n",
    "hasta un máximo de maxI iteraciones\n",
    "\"\"\"\n",
    "function biseccion(f,a,b,ϵx,ϵf,maxi)\n",
    "\n",
    "    ci=0\n",
    "    ri=ϵx+1\n",
    "    xp=a + (b-a)/2\n",
    "    \n",
    "    vec_p = zeros(maxi)\n",
    "    vec_f = zeros(maxi)\n",
    "    vec_c = zeros(maxi)\n",
    "    vec_r = zeros(maxi)\n",
    "\n",
    "    \n",
    "    for i in 1:maxi\n",
    "            \n",
    "        if f(xp)*f(a)<0\n",
    "            b=xp\n",
    "        else\n",
    "            a=xp\n",
    "        end\n",
    "        \n",
    "       \n",
    "        xp = a + (b-a)/2\n",
    "        ci=abs(b-a)/2\n",
    "        ri=ci/abs(xp)\n",
    "\n",
    "        \n",
    "        vec_p[i] = xp\n",
    "        vec_f[i] = f(xp)\n",
    "        vec_c[i] = ci\n",
    "        vec_r[i] = ri\n",
    "        \n",
    "        if abs(f(xp))<ϵf && ri<ϵx\n",
    "            return true, vec_p[1:i],vec_f[1:i],vec_c[1:i],vec_r[1:i]\n",
    "         end\n",
    "\n",
    "     end   \n",
    "\n",
    "     return false, vec_p,vec_f,vec_c,vec_r\n",
    "    \n",
    "end"
   ]
  },
  {
   "cell_type": "code",
   "execution_count": 38,
   "id": "62ce9b04-6a88-42da-be23-f8e8db198b32",
   "metadata": {},
   "outputs": [
    {
     "data": {
      "text/plain": [
       "raiz_tangente"
      ]
     },
     "execution_count": 38,
     "metadata": {},
     "output_type": "execute_result"
    }
   ],
   "source": [
    "\"\"\"\n",
    "Calcula a partir de f y su derviada df la raiz de la recta tangente que pasa por el gráfico en el punto a\n",
    "\"\"\"\n",
    "function raiz_tangente(a,f::Function,df::Function)\n",
    "    return( (-f(a)/df(x)) + a )\n",
    "end"
   ]
  },
  {
   "cell_type": "code",
   "execution_count": 23,
   "id": "137b9c16-cea6-4f51-8087-d03391bc9b5c",
   "metadata": {},
   "outputs": [
    {
     "data": {
      "text/plain": [
       "newton"
      ]
     },
     "execution_count": 23,
     "metadata": {},
     "output_type": "execute_result"
    }
   ],
   "source": [
    "\"\"\"\n",
    "Devuelve mediante el metodo de Newton-Raphson la raíz aproximada a la función f, partiendo con: \n",
    "aproximación inicial Xp  \n",
    "Con error de la aproximacion ϵx y ϵf\n",
    "hasta un máximo de maxI iteraciones\n",
    "\n",
    "Y devuelve además una matriz de vectores que contienen [bool Xp f(Xp) Ci ri] para cada iteración i siendo:\n",
    "bool:= Si convergió o no\n",
    "Xp:= Valor de la aproximación de la raíz\n",
    "f(Xp):= La función evaluada en Xp\n",
    "Ci:= Error absoluto estimado de Xp\n",
    "ri:= Error relativo estimado de ri\n",
    "\"\"\"\n",
    "function newton(f::Function,df::Function,Xp,ϵx::Float64,ϵf::Float64,maxit::Int)\n",
    "\n",
    "    ci = 0\n",
    "    ri=ϵx+1\n",
    "    vec_p, vec_f, vec_c, vec_r = zeros(maxit),zeros(maxit),zeros(maxit),zeros(maxit)\n",
    "    \n",
    "    for i in 1:maxit\n",
    "        \n",
    "        if (abs(f(Xp))<ϵf && ri<ϵx);\n",
    "            return true, vec_p[1:i], vec_f[1:i], vec_c[1:i], vec_r[1:i]\n",
    "        end\n",
    "      \n",
    "        \n",
    "        Xp1 = Xp\n",
    "        Xp = (-f(Xp)/df(Xp))+Xp\n",
    "        ci = abs(Xp-Xp1)\n",
    "        ri = abs(ci/Xp)\n",
    "        \n",
    "         vec_p[i], vec_f[i], vec_c[i], vec_r[i] = Xp,f(Xp),ci,ri \n",
    "\n",
    "        if i==maxit\n",
    "             return false, vec_p, vec_f, vec_c, vec_r\n",
    "        end\n",
    "    end\n",
    "end"
   ]
  },
  {
   "cell_type": "code",
   "execution_count": 24,
   "id": "3c170186-e8e4-4294-8a39-16df820ca344",
   "metadata": {},
   "outputs": [
    {
     "data": {
      "text/plain": [
       "BenchmarkTools.Trial: 10000 samples with 198 evaluations.\n",
       " Range \u001b[90m(\u001b[39m\u001b[36m\u001b[1mmin\u001b[22m\u001b[39m … \u001b[35mmax\u001b[39m\u001b[90m):  \u001b[39m\u001b[36m\u001b[1m433.333 ns\u001b[22m\u001b[39m … \u001b[35m 12.803 μs\u001b[39m  \u001b[90m┊\u001b[39m GC \u001b[90m(\u001b[39mmin … max\u001b[90m): \u001b[39m0.00% … 85.62%\n",
       " Time  \u001b[90m(\u001b[39m\u001b[34m\u001b[1mmedian\u001b[22m\u001b[39m\u001b[90m):     \u001b[39m\u001b[34m\u001b[1m512.121 ns               \u001b[22m\u001b[39m\u001b[90m┊\u001b[39m GC \u001b[90m(\u001b[39mmedian\u001b[90m):    \u001b[39m0.00%\n",
       " Time  \u001b[90m(\u001b[39m\u001b[32m\u001b[1mmean\u001b[22m\u001b[39m ± \u001b[32mσ\u001b[39m\u001b[90m):   \u001b[39m\u001b[32m\u001b[1m636.847 ns\u001b[22m\u001b[39m ± \u001b[32m515.863 ns\u001b[39m  \u001b[90m┊\u001b[39m GC \u001b[90m(\u001b[39mmean ± σ\u001b[90m):  \u001b[39m7.34% ± 10.25%\n",
       "\n",
       "  \u001b[39m▄\u001b[39m█\u001b[34m▆\u001b[39m\u001b[39m▅\u001b[39m▄\u001b[32m▄\u001b[39m\u001b[39m▃\u001b[39m▂\u001b[39m▂\u001b[39m▂\u001b[39m▁\u001b[39m▁\u001b[39m▁\u001b[39m \u001b[39m \u001b[39m \u001b[39m \u001b[39m \u001b[39m \u001b[39m \u001b[39m \u001b[39m \u001b[39m \u001b[39m \u001b[39m \u001b[39m \u001b[39m \u001b[39m \u001b[39m \u001b[39m \u001b[39m \u001b[39m \u001b[39m \u001b[39m \u001b[39m \u001b[39m \u001b[39m \u001b[39m \u001b[39m \u001b[39m \u001b[39m \u001b[39m \u001b[39m \u001b[39m \u001b[39m \u001b[39m \u001b[39m \u001b[39m \u001b[39m \u001b[39m \u001b[39m \u001b[39m \u001b[39m \u001b[39m \u001b[39m \u001b[39m \u001b[39m \u001b[39m \u001b[39m \u001b[39m \u001b[39m \u001b[39m \u001b[39m▂\n",
       "  \u001b[39m█\u001b[39m█\u001b[34m█\u001b[39m\u001b[39m█\u001b[39m█\u001b[32m█\u001b[39m\u001b[39m█\u001b[39m█\u001b[39m█\u001b[39m█\u001b[39m█\u001b[39m█\u001b[39m█\u001b[39m█\u001b[39m█\u001b[39m█\u001b[39m█\u001b[39m█\u001b[39m▇\u001b[39m▇\u001b[39m▆\u001b[39m▆\u001b[39m▆\u001b[39m▆\u001b[39m▆\u001b[39m▇\u001b[39m▆\u001b[39m▅\u001b[39m▅\u001b[39m▅\u001b[39m▄\u001b[39m▅\u001b[39m▃\u001b[39m▁\u001b[39m▄\u001b[39m▅\u001b[39m▅\u001b[39m▄\u001b[39m▅\u001b[39m▃\u001b[39m▅\u001b[39m▃\u001b[39m▅\u001b[39m▅\u001b[39m▄\u001b[39m▁\u001b[39m▅\u001b[39m▅\u001b[39m▁\u001b[39m▄\u001b[39m▄\u001b[39m▅\u001b[39m▃\u001b[39m▄\u001b[39m▅\u001b[39m▇\u001b[39m▇\u001b[39m▇\u001b[39m▇\u001b[39m▆\u001b[39m▅\u001b[39m \u001b[39m█\n",
       "  433 ns\u001b[90m        \u001b[39m\u001b[90mHistogram: \u001b[39m\u001b[90m\u001b[1mlog(\u001b[22m\u001b[39m\u001b[90mfrequency\u001b[39m\u001b[90m\u001b[1m)\u001b[22m\u001b[39m\u001b[90m by time\u001b[39m       2.97 μs \u001b[0m\u001b[1m<\u001b[22m\n",
       "\n",
       " Memory estimate\u001b[90m: \u001b[39m\u001b[33m3.98 KiB\u001b[39m, allocs estimate\u001b[90m: \u001b[39m\u001b[33m9\u001b[39m."
      ]
     },
     "execution_count": 24,
     "metadata": {},
     "output_type": "execute_result"
    }
   ],
   "source": [
    "using BenchmarkTools\n",
    "f(x) = x^2 - 2\n",
    "df(x) = 2*x\n",
    "p = 3\n",
    "ϵx = 1e-5\n",
    "ϵf= 1e-5\n",
    "n = 100\n",
    "#@benchmark suma(n)\n",
    "#@benchmark Newton($f,$df,$p,$ϵx,$ϵf,$n)\n",
    "@benchmark newton($f,$df,$p,$ϵx,$ϵf,$n)"
   ]
  },
  {
   "cell_type": "code",
   "execution_count": 29,
   "id": "c095248f-af65-4665-a06f-8b36f1cf2899",
   "metadata": {},
   "outputs": [
    {
     "data": {
      "text/plain": [
       "secante"
      ]
     },
     "execution_count": 29,
     "metadata": {},
     "output_type": "execute_result"
    }
   ],
   "source": [
    "\"\"\"\n",
    "Devuelve mediante el metodo de la secante la raíz aproximada a la función f, partiendo con: \n",
    "\n",
    "aproximación inicial Xp  \n",
    "Con error de la aproximacion ϵx y ϵf\n",
    "hasta un máximo de maxI iteraciones\n",
    "\n",
    "Y devuelve además una matriz de vectores que contienen [bool Xp f(Xp) Ci ri] para cada iteración i siendo:\n",
    "bool:= Si convergió o no\n",
    "Xp:= Valor de la aproximación de la raíz\n",
    "f(Xp):= La función evaluada en Xp\n",
    "Ci:= Error absoluto estimado de Xp\n",
    "ri:= Error relativo estimado de ri\n",
    "\"\"\"\n",
    "function secante(f,a,b,ϵx,ϵf,maxi)\n",
    "    \n",
    "    ri=ϵx + 1\n",
    "    ci=0\n",
    "    vec_p, vec_f, vec_c, vec_r = zeros(maxi),zeros(maxi),zeros(maxi),zeros(maxi)\n",
    "    X = b - ((b-a)*f(b))/(f(b)-f(a))\n",
    "\n",
    "    for i in 1:maxi\n",
    "\n",
    "        if (abs(f(X))<ϵf && ri<ϵx)\n",
    "            return true, vec_p[1:i], vec_f[1:i], vec_c[1:i], vec_r[1:i]\n",
    "        end\n",
    "        \n",
    "        X = b - ((b-a)*f(b))/(f(b)-f(a))                \n",
    "        a=b  \n",
    "        b=X  \n",
    "        ci=abs(b-a)\n",
    "        ri=ci/abs(b)\n",
    "               \n",
    "        vec_p[i], vec_f[i], vec_c[i], vec_r[i] = X,f(X),ci,ri \n",
    "        \n",
    "        if i == maxi\n",
    "            return false, vec_p, vec_f, vec_c, vec_r\n",
    "        end\n",
    "        \n",
    "    end\n",
    "end"
   ]
  },
  {
   "cell_type": "code",
   "execution_count": 33,
   "id": "dc9a2a42-a3d5-4879-8dfa-b14f46579fc9",
   "metadata": {},
   "outputs": [
    {
     "data": {
      "text/plain": [
       "falsi"
      ]
     },
     "execution_count": 33,
     "metadata": {},
     "output_type": "execute_result"
    }
   ],
   "source": [
    "\"\"\"\n",
    "Calcula mediante el metodo de la regla falsa la raíz aproximada a la función f, partiendo del intervalo [a b] teniendo en cuenta:\n",
    "\n",
    "f(a)<0\n",
    "f(b)>0\n",
    "Con error de la aproximacion ϵx y ϵf\n",
    "hasta un máximo de maxI iteraciones\n",
    "\n",
    "Y devuelve además una matriz de vectores que contienen [bool Xp f(Xp) Ci ri] para cada iteración i siendo:\n",
    "\n",
    "bool:= Si convergió o no\n",
    "Xp:= Valor de la aproximación de la raíz\n",
    "f(Xp):= La función evaluada en Xp\n",
    "Ci:= Error absoluto estimado de Xp\n",
    "ri:= Error relativo estimado de ri\n",
    "\"\"\"\n",
    "function falsi(f,a,b,ϵx,ϵf,maxi)\n",
    "\n",
    "    ci=0\n",
    "    ri=ϵx+1\n",
    "    xp=(a*f(b)-b*f(a))/(f(b)-f(a))\n",
    "    xp1=a + (b-a)/2\n",
    "    \n",
    "    vec_p, vec_f, vec_c, vec_r = zeros(maxi),zeros(maxi),zeros(maxi),zeros(maxi)\n",
    "    \n",
    "     for i in 1:maxi\n",
    "        \n",
    "        if abs(f(xp))<ϵf && (ri)<ϵx\n",
    "            return true, vec_p[1:i], vec_f[1:i], vec_c[1:i], vec_r[1:i]\n",
    "        end\n",
    "        \n",
    "        #Calculo la raìz de la recta secante que pasa por (a,f(a)) y (b,f(b))\n",
    "        xp=(a*f(b)-b*f(a))/(f(b)-f(a))\n",
    "        #Me fijo si cambia el signo en f comparado con f(a) y f(b)\n",
    "        if f(xp)*f(a)<0\n",
    "            b=xp\n",
    "           #Queda el intervalo [a,xp]\n",
    "        else\n",
    "            a=xp\n",
    "            #Queda el intervalo [xp,b]\n",
    "        end\n",
    "\n",
    "        #Cálculo de el error absoluto como la longitud del intervalo \n",
    "        ci=abs(xp1-xp)\n",
    "        #Cálculo del error relativo, como el absoluto sobre la estimación actual de la raíz\n",
    "        ri=abs(ci/abs(xp))\n",
    "        #Almaceno los datos para el output\n",
    "        vec_p[i], vec_f[i], vec_c[i], vec_r[i] = xp,f(xp),ci,ri \n",
    "        \n",
    "        xp1=xp\n",
    "              \n",
    "        if i == maxi\n",
    "            return  false,vec_p, vec_f, vec_c, vec_r\n",
    "        end\n",
    "        \n",
    "    end        \n",
    "end"
   ]
  },
  {
   "cell_type": "code",
   "execution_count": 34,
   "id": "792edb2f-5f48-46f1-b310-0e615b031015",
   "metadata": {},
   "outputs": [
    {
     "data": {
      "text/plain": [
       "cotasCauchy"
      ]
     },
     "execution_count": 34,
     "metadata": {},
     "output_type": "execute_result"
    }
   ],
   "source": [
    "\"\"\"\n",
    "Devuelve el intervalo donde se encuntran todas las raices de un polinomio P de la forma\n",
    "[a0 a1 ... an-1 an]\n",
    "\"\"\"\n",
    "function cotasCauchy(v::Matrix)\n",
    "    n=length(v)\n",
    "    cjt = Array{Float64}(undef,n)\n",
    "    an=v[n]\n",
    "    for i in 1:length(v)-1\n",
    "       cjt[i]= abs(v[i]/an)\n",
    "    end\n",
    "    return (-(maximum(cjt)+1),maximum(cjt)+1)\n",
    "end"
   ]
  },
  {
   "cell_type": "code",
   "execution_count": 43,
   "id": "85771b5e-602b-40b3-80ba-d6c560bf1ab3",
   "metadata": {},
   "outputs": [
    {
     "data": {
      "text/plain": [
       "horner"
      ]
     },
     "execution_count": 43,
     "metadata": {},
     "output_type": "execute_result"
    }
   ],
   "source": [
    "\"\"\"\n",
    "Devuelve el polinomio de horner de un polinomio P de la forma \n",
    "[a0 a1 ... an]\n",
    "evaluado en x0\n",
    "\"\"\"\n",
    "function horner(a,x0)\n",
    "    n = length(a)\n",
    "    s= a[n]\n",
    "    for i in n-1:-1:1\n",
    "        s= a[i]+s*x0\n",
    "    end\n",
    "    return(s)\n",
    "end"
   ]
  },
  {
   "cell_type": "code",
   "execution_count": 44,
   "id": "13e2ae54-349b-4559-a322-5a969697ac8b",
   "metadata": {},
   "outputs": [
    {
     "data": {
      "text/plain": [
       "derhorner"
      ]
     },
     "execution_count": 44,
     "metadata": {},
     "output_type": "execute_result"
    }
   ],
   "source": [
    "\"\"\"\n",
    "Devuelve el polinomio de horner de la derivada de un polinomio P expresado como\n",
    "[a0 a1 a2 ... an]\n",
    "evaluado en x0\n",
    "\"\"\"\n",
    "function derhorner(a,x0)\n",
    "    n=length(a)\n",
    "    b=Array{Float64}(undef,n-1)\n",
    "    for i in 1:n-1\n",
    "        b[i]=a[i+1]*i\n",
    "    end\n",
    "    return(horner(b,x0))\n",
    "end"
   ]
  },
  {
   "cell_type": "code",
   "execution_count": 45,
   "id": "39c12ffb-5984-4e97-b494-fcb8ea7aa1f8",
   "metadata": {},
   "outputs": [
    {
     "data": {
      "text/plain": [
       "raizcubica"
      ]
     },
     "execution_count": 45,
     "metadata": {},
     "output_type": "execute_result"
    }
   ],
   "source": [
    "\"\"\"\n",
    "Devuelve la raíz cúbica de R, con aproximación inicial x0 y tolerancia ϵ\n",
    "\"\"\"\n",
    "function raizcubica(R,x0,ϵ)\n",
    "    f(x)= (x^3) - R\n",
    "    df(x)=3*(x^2)\n",
    "\n",
    "    return(newton(f,df,x0,ϵ,ϵ,1000)[1])\n",
    "end"
   ]
  }
 ],
 "metadata": {
  "kernelspec": {
   "display_name": "Julia 1.10.2",
   "language": "julia",
   "name": "julia-1.10"
  },
  "language_info": {
   "file_extension": ".jl",
   "mimetype": "application/julia",
   "name": "julia",
   "version": "1.10.2"
  }
 },
 "nbformat": 4,
 "nbformat_minor": 5
}
