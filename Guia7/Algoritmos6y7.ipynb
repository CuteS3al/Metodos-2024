{
 "cells": [
  {
   "cell_type": "markdown",
   "id": "3377340a-b115-4f2f-a487-b6940b78a048",
   "metadata": {},
   "source": [
    "### Integrales"
   ]
  },
  {
   "cell_type": "code",
   "execution_count": null,
   "id": "9ec169aa-9c1e-4c2e-880e-d337996d5108",
   "metadata": {
    "jupyter": {
     "source_hidden": true
    }
   },
   "outputs": [],
   "source": [
    "\"\"\"\n",
    "    integralsi(a,b,f,n)\n",
    "\n",
    "Calcula la aproximación de la integral definida de `a` hasta `b` de la función `f` con `n` puntos usando el método de `Simpson compuesto`\n",
    "\n",
    "\"\"\"\n",
    "function integralsi(a,b,f::Function,n=100)\n",
    "    @assert (n%2==0) \"n debe ser par\"  \n",
    "    h = (b-a)/n\n",
    "    imp,pa=0,0\n",
    "    fp=f(a)+f(b)\n",
    "        \n",
    "    for i in 1:(n/2)\n",
    "        pa+=f(a+(2*i-1)*h)\n",
    "    end\n",
    "    pa*=4\n",
    "    for i in 1:(n/2)-1\n",
    "        imp+=f(a+(2*i)*h)\n",
    "    end\n",
    "    imp*=2\n",
    "    fp+=imp+pa\n",
    "    \n",
    "    return (h/3)*fp\n",
    "end"
   ]
  },
  {
   "cell_type": "code",
   "execution_count": null,
   "id": "8a0c0a5d-72d9-4531-8325-37db5f28c08f",
   "metadata": {
    "jupyter": {
     "source_hidden": true
    }
   },
   "outputs": [],
   "source": [
    "\"\"\"\n",
    "    integralsi(x::Vector,f::Vector)\n",
    "\n",
    "En caso de pasar un número discreto de valores x y f(x).\n",
    "\"\"\"\n",
    "function integralsi(x::Vector,f::Vector)\n",
    "    n=length(f)\n",
    "    I=0\n",
    "    for i in 1:3:n-n%3\n",
    "        h= (x[i+1]+x[i+2]-2*x[i])/2\n",
    "        #t1= (f[i]/((x[i]-x[i+1])*(x[i]-x[i+2])))*((-1/6)*x[i+2]^3 + (1/2)*x[i+2]*x[i]^2 -(1/2)*x[i+1]*x[i+2]^2 + (1/2)*x[i+2]*x[i]^2)\n",
    "        I+=(h/3)*(f[i]+4*f[i+1]+f[i+2])\n",
    "    end\n",
    "    return I\n",
    "end"
   ]
  },
  {
   "cell_type": "code",
   "execution_count": null,
   "id": "c3c65cd3-66eb-4690-a2d3-b4bc54161ac5",
   "metadata": {
    "jupyter": {
     "source_hidden": true
    }
   },
   "outputs": [],
   "source": [
    "\"\"\"\n",
    "    integraltr(a,b,f::Function,n::Int)\n",
    "\n",
    "Calcula la aproximación de la integral definida de `a` hasta `b` de la función `f` con `n` puntos usando el método de `Trapecio compuesto`\n",
    "\n",
    "\"\"\"\n",
    "function integraltr(a,b,f::Function,n=100)\n",
    "    h=(b-a)/n\n",
    "    fp=0\n",
    "    for i in 0:n-1\n",
    "        fp+=f(a + h*i)\n",
    "    end\n",
    "    \n",
    "    return (h/2)*(f(a)+2*fp+f(b))\n",
    "    \n",
    "end "
   ]
  },
  {
   "cell_type": "code",
   "execution_count": null,
   "id": "29527a6f-3781-4de3-a125-f9b09e238390",
   "metadata": {
    "jupyter": {
     "source_hidden": true
    }
   },
   "outputs": [],
   "source": [
    "\"\"\"\n",
    "    integraltr(x::Vector,f::Vector)\n",
    "\n",
    "En caso de pasar un número discreto de valores `x` y `f(x)`.\n",
    "\"\"\"\n",
    "function integraltr(x::Vector,f::Vector)\n",
    "    n=length(f)\n",
    "    I=0\n",
    "    for i in 3:2:n\n",
    "        #fp=0\n",
    "        h1 = (x[i-1]-x[i-2])\n",
    "        h2 = (x[i]-x[i-1])\n",
    "        f1 = f[i-2]+f[i-1]\n",
    "        f2 = f[i-1]+f[i]\n",
    "        I += (h1/2)*(f1) + (h2/2)*(f2)\n",
    "        #println(\"h = $h         I[$i] = $I\")\n",
    "    end\n",
    "    \n",
    "    return I\n",
    "end"
   ]
  },
  {
   "cell_type": "code",
   "execution_count": null,
   "id": "fa0c3be9-339e-469c-926b-1d3482a14bf5",
   "metadata": {
    "jupyter": {
     "source_hidden": true
    }
   },
   "outputs": [],
   "source": [
    "\"\"\"\n",
    "    integralpm(a,b,f,n)\n",
    "\n",
    "Calcula la aproximación de la integral definida de `a` hasta `b` de la función `f` con `n` puntos usando el método de `Punto medio compuesto`\n",
    "\n",
    "\"\"\"\n",
    "function integralpm(a,b,f::Function,n=100)\n",
    "    @assert (n%2==0) \"n debe ser par\"\n",
    "    h=(b-a)/(n+2)\n",
    "    fp=0\n",
    "    for i in 0:n/2\n",
    "        fp+=f(a + (2*i+1)*h)\n",
    "    end\n",
    "    \n",
    "    return 2*h*fp\n",
    "end"
   ]
  },
  {
   "cell_type": "code",
   "execution_count": null,
   "id": "2447d256-ed7a-4402-8596-ae84763298af",
   "metadata": {
    "jupyter": {
     "source_hidden": true
    }
   },
   "outputs": [],
   "source": [
    "\"\"\"\n",
    "    integralpm(x::Vector,f::Vector)\n",
    "\n",
    "En caso de pasar un número discreto de valores x y f(x).\n",
    "\"\"\"\n",
    "function integralpm(x::Vector,f::Vector)\n",
    "    n=length(f)\n",
    "    I=0\n",
    "    for i in 2:2:n-1-n%2\n",
    "        I += f[i+1]*(x[i+2]-x[i])\n",
    "    end\n",
    "    return I\n",
    "end"
   ]
  },
  {
   "cell_type": "code",
   "execution_count": null,
   "id": "39c92392-1eae-431d-bddd-af2a1478eb7d",
   "metadata": {
    "jupyter": {
     "source_hidden": true
    }
   },
   "outputs": [],
   "source": [
    "\"\"\"\n",
    "    est_errSI(a,b,f,n)\n",
    "\n",
    "Calcula una cota para el error numérico de la integral definida con el `método de Simpson compuesto` de `a` hasta `b` de la función `f` con `n` puntos \n",
    "\n",
    "\"\"\"\n",
    "function est_errSI(a,b,f,n)\n",
    "     @assert n!=0\n",
    "    x = a:0.01:b\n",
    "    f4= der_num3p(x,f.(x))|>j->der_num3p(x,j)|>j->der_num3p(x,j)|>j->der_num3p(x,j) #Cálculo numérico de la f4\n",
    "    return maximum(abs.(f4.*(  ((b-a)^5)/(18*(n^4))   )  )  )\n",
    "end"
   ]
  },
  {
   "cell_type": "code",
   "execution_count": null,
   "id": "52dc3d35-085d-4f69-8097-9cc9cef5be6b",
   "metadata": {
    "jupyter": {
     "source_hidden": true
    }
   },
   "outputs": [],
   "source": [
    "\"\"\"\n",
    "    est_errTR(a,b,f,n)\n",
    "\n",
    "Calcula una cota para el error numérico de la integral definida con el `método de trapecio compuesto` de `a` hasta `b` de la función `f` con `n` puntos \n",
    "\n",
    "\"\"\"\n",
    "function est_errTR(a,b,f,n)\n",
    "     @assert n!=0\n",
    "    x = a:0.01:b\n",
    "    f4= der_num3p(x,f.(x))|>j->der_num3p(x,j) #Cálculo numérico de la f2\n",
    "    return maximum(abs.(f4.*(    ((b-a)^3)/(12*(n^2))    )  )  )\n",
    "end"
   ]
  },
  {
   "cell_type": "code",
   "execution_count": null,
   "id": "2b5d784c-e9d9-40b9-9050-8ffff61a314c",
   "metadata": {
    "jupyter": {
     "source_hidden": true
    }
   },
   "outputs": [],
   "source": [
    "\"\"\"\n",
    "    est_errPM(a,b,f,n)\n",
    "\n",
    "Calcula una cota para el error numérico de la integral definida con el `método de punto medio compuesto` de `a` hasta `b` de la función `f` con `n` puntos \n",
    "\n",
    "\"\"\"\n",
    "function est_errPM(a,b,f,n)\n",
    "    @assert n!=0\n",
    "    x = a:0.01:b\n",
    "    f4= der_num3p(x,f.(x))|>j->der_num3p(x,j) #Cálculo numérico de la f2\n",
    "    return maximum(abs.(f4.*(  ((b-a)^3)/(6*(n^2))  )  )  )\n",
    "end"
   ]
  },
  {
   "cell_type": "code",
   "execution_count": null,
   "id": "6a6a0858-ed42-4d21-8ef6-b4685d4d3440",
   "metadata": {
    "jupyter": {
     "source_hidden": true
    }
   },
   "outputs": [],
   "source": [
    "\"\"\"\n",
    "    estim_n(a,b,f,tol,met)\n",
    "\n",
    "Devuelve la cantidad de puntos para calcular la integral indefinida de `a` hasta `b` de la función `f` con un error menor a `tol`\n",
    "# Argumentos\n",
    "- `met`: \"SI\" para el método de `Simpson`\n",
    "- `met`: \"TR\" para el método de `Trapecio`\n",
    "- `met`: \"PM\" para el método de `Punto Medio`\n",
    "\n",
    "\"\"\"\n",
    "function estim_n(a,b,f,tol,met=\"SI\")\n",
    "    E,i=tol+1,2\n",
    "    if met==\"SI\"\n",
    "        while E > tol\n",
    "            i+=1\n",
    "            E=est_errSI(a,b,f,i)\n",
    "        end\n",
    "    elseif met==\"PM\"\n",
    "        while E > tol\n",
    "            i+=1\n",
    "            E=est_errPM(a,b,f,i)\n",
    "        end\n",
    "    elseif met==\"TR\" \n",
    "        while E > tol\n",
    "            i+=1\n",
    "            E=est_errTR(a,b,f,i)\n",
    "        end\n",
    "    end        \n",
    "    return i+i%2\n",
    "end"
   ]
  },
  {
   "cell_type": "markdown",
   "id": "d5f360ca-78e3-4ca5-aedb-e45f4a4db942",
   "metadata": {},
   "source": [
    "### Ecuaciones Diferenciales:"
   ]
  },
  {
   "cell_type": "code",
   "execution_count": null,
   "id": "74f31dd9-57b5-4aac-872e-67bf0adb181e",
   "metadata": {
    "jupyter": {
     "source_hidden": true
    }
   },
   "outputs": [],
   "source": [
    "function paso_euler(f,y0,t0,h,p=nothing)\n",
    "    return (y0 + h*f(y0,t0,p))\n",
    "end\n",
    "\"\"\"\n",
    "    dif_euler(f,a,b,y0,h,p)\n",
    "Calcula la ecuación diferencial dy/dt = `f`(y(t),`t`,`p`) en el intervalo [`a`,`b`], con condiciones iniciales y(`a`)=`y0`, en intervalos de ancho `h`\n",
    "mediante el método de Euler\n",
    "\"\"\"\n",
    "function dif_euler(f,a,b,y0,h,p=nothing)\n",
    "    N = round(Int,(b-a)/h)\n",
    "    \n",
    "    vec_w,vec_t=Vector{Float64}(undef,N+1),Vector{Float64}(undef,N+1)\n",
    "    \n",
    "    vec_w[1]=y0\n",
    "    vec_t[1]=a\n",
    "    \n",
    "    for i in 2:1:N+1\n",
    "        vec_t[i]=a+i*h\n",
    "        vec_w[i]=paso_euler(f,vec_w[i-1],vec_t[i-1],h,p)\n",
    "    end\n",
    "    \n",
    "    return vec_w,vec_t\n",
    "end\n",
    "        "
   ]
  },
  {
   "cell_type": "code",
   "execution_count": null,
   "id": "8cf3cfd2-b407-4866-996a-3db333682612",
   "metadata": {
    "jupyter": {
     "source_hidden": true
    }
   },
   "outputs": [],
   "source": [
    "function paso_rk2(f,y0,t0,h,p=nothing)\n",
    "    return y0 + h * f(  y0+(h/2)  *  f(y0,t0,p)  ,  t0+h/2  ,  p)\n",
    "end\n",
    "\"\"\"\n",
    "    dif_rk2(f,a,b,y0,h,p)\n",
    "Calcula la ecuación diferencial dy/dt = `f`(y(t),`t`,`p`) en el intervalo [`a`,`b`], con condiciones iniciales y(`a`)=`y0`, en intervalos de ancho `h`\n",
    "mediante el método de Runge-Kutta de segundo orden\n",
    "\"\"\"\n",
    "function dif_rk2(f,a,b,y0,h,p=nothing)\n",
    "    N = round(Int,(b-a)/h)\n",
    "    \n",
    "    vec_w,vec_t =Vector{Float64}(undef,N+1),Vector{Float64}(undef,N+1)\n",
    "    vec_w[1],vec_t[1]=y0,a\n",
    "    \n",
    "    for i in 2:1:N+1\n",
    "        vec_t[i]=a+i*h\n",
    "        vec_w[i]= paso_rk2(f,vec_w[i-1],vec_t[i-1],h,p) \n",
    "    end\n",
    "    \n",
    "    return vec_w,vec_t\n",
    "    \n",
    "end"
   ]
  },
  {
   "cell_type": "code",
   "execution_count": null,
   "id": "37dd8eda-b3f6-4c62-aafa-6835566946f3",
   "metadata": {
    "jupyter": {
     "source_hidden": true
    }
   },
   "outputs": [],
   "source": [
    "function paso_rk4(f,y0,t0,h,p=nothing)\n",
    "    k1=h*f(y0  ,  t0  ,p)\n",
    "    k2=h*f(y0+k1/2  ,t0+h/2  ,p)\n",
    "    k3=h*f(y0+k2/2  ,t0+h/2  ,p)\n",
    "    k4=h*f(y0+k3  ,t0+h  ,p)\n",
    "    \n",
    "    return y0 + (k1+  2*k2  +  2*k3  +  k4)/6\n",
    "\n",
    "end\n",
    "\"\"\"\n",
    "    dif_rk4(f,a,b,y0,h,p)\n",
    "Calcula la ecuación diferencial dy/dt = `f`(y(t),`t`,`p`) en el intervalo [`a`,`b`], con condiciones iniciales y(`a`)=`y0`, en intervalos de ancho `h`\n",
    "mediante el método de Runge-Kutta de segundo orden\n",
    "\"\"\"\n",
    "function dif_rk4(f,a,b,y0,h,p=nothing)\n",
    "    N = round(Int,(b-a)/h)\n",
    "\n",
    "    vec_w=Vector{Float64}(undef,N+1)\n",
    "    vec_t=Vector{Float64}(undef,N+1)\n",
    "\n",
    "    vec_w[1],vec_t[1]=y0,a\n",
    "\n",
    "    for i in 2:1:N+1\n",
    "        vec_t[i]=a+i*h\n",
    "        vec_w[i] = paso_rk4(f,vec_w[i-1],vec_t[i-1],h,p)\n",
    "    end\n",
    "\n",
    "    return vec_w,vec_t\n",
    "\n",
    "end"
   ]
  },
  {
   "cell_type": "code",
   "execution_count": null,
   "id": "9858f543-8454-4d65-8db7-f04e4aeb0bd1",
   "metadata": {
    "jupyter": {
     "source_hidden": true
    }
   },
   "outputs": [],
   "source": [
    "#=\n",
    "function paso_euler(f,y0,t0,h,p=nothing)\n",
    "    return (y0 + h*f(y0,t0,p))\n",
    "end\n",
    "=#\n",
    "\n",
    "\n",
    "function dif_euler_multi(f,a,b,y0,h,p=nothing)\n",
    "    n = round(Int,(b-a)/h)\n",
    "    \n",
    "    vec_w=zeros(length(y0),n)\n",
    "    vec_t=zeros(n)\n",
    "    \n",
    "    vec_w[:,1]=y0\n",
    "    vec_t[1]=a\n",
    "    \n",
    "    for i in 2:1:n\n",
    "        vec_t[i]=vec_t[i-1]+h\n",
    "        vec_w[:,i]=paso_euler(f,vec_w[:,i-1],vec_t[i-1],h,p)\n",
    "    end\n",
    "    \n",
    "    return vec_w,vec_t\n",
    "    \n",
    "    \n",
    "end"
   ]
  },
  {
   "cell_type": "code",
   "execution_count": null,
   "id": "b97dc4e5-d209-48ea-8c4d-36d8adb1ef10",
   "metadata": {
    "jupyter": {
     "source_hidden": true
    }
   },
   "outputs": [],
   "source": [
    "#=function paso_rk4(f,y0,t0,h,p=nothing)\n",
    "    k1=h*f(y0  ,  t0  ,p)\n",
    "    k2=h*f(y0+k1/2  ,t0+h/2  ,p)\n",
    "    k3=h*f(y0+k2/2  ,t0+h/2  ,p)\n",
    "    k4=h*f(y0+k3  ,t0+h  ,p)\n",
    "    \n",
    "    return y0 + (k1+  2*k2  +  2*k3  +  k4)/6\n",
    "\n",
    "end\n",
    "=#\n",
    "\"\"\"\n",
    "    dif_rk4_multi(f,a,b,y0,h,p=nothing)\n",
    "Calcula la/s ecuaciones diferenciales de f(y1,y2,...yn,t,p) con condiciones iniciales y0 = [y1o,y2o,...yno]\n",
    "con paso de integración h con el método de Runge-Kutta 4.\n",
    " Si m= (a+b)/h\n",
    "devuelve: \n",
    "vec_w: [Y11 Y21 ... Yn1;\n",
    "        Y12 Y22 ... Yn2;\n",
    "         .   .  ...  . ;\n",
    "        Y1m Y2m ... Ynm]\n",
    "\n",
    "vec_t: [a+h, a+2h, ... a+mh]\n",
    "\"\"\"\n",
    "function dif_rk4_multi(f,a,b,y0,h,p=nothing)\n",
    "    N = round(Int,(b-a)/h)\n",
    "\n",
    "    vec_w=zeros(N,length(y0))\n",
    "    vec_t=zeros(N)\n",
    "    \n",
    "    vec_w[1,:]=y0\n",
    "    vec_t[1]=a\n",
    "\n",
    "    for i in 2:1:N\n",
    "        vec_t[i]=a+i*h\n",
    "        vec_w[i,:]= paso_rk4(f,vec_w[i-1,:],vec_t[i-1],h,p)\n",
    "    end\n",
    "\n",
    "    return vec_w,vec_t\n",
    "\n",
    "end "
   ]
  }
 ],
 "metadata": {
  "kernelspec": {
   "display_name": "Julia 1.10.2",
   "language": "julia",
   "name": "julia-1.10"
  },
  "language_info": {
   "file_extension": ".jl",
   "mimetype": "application/julia",
   "name": "julia",
   "version": "1.10.2"
  }
 },
 "nbformat": 4,
 "nbformat_minor": 5
}
